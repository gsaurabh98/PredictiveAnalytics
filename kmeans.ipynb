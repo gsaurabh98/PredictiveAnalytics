{
 "cells": [
  {
   "cell_type": "markdown",
   "metadata": {},
   "source": [
    "### importing necessary libaries"
   ]
  },
  {
   "cell_type": "code",
   "execution_count": 1,
   "metadata": {},
   "outputs": [
    {
     "data": {
      "text/html": [
       "        <script type=\"text/javascript\">\n",
       "        window.PlotlyConfig = {MathJaxConfig: 'local'};\n",
       "        if (window.MathJax) {MathJax.Hub.Config({SVG: {font: \"STIX-Web\"}});}\n",
       "        if (typeof require !== 'undefined') {\n",
       "        require.undef(\"plotly\");\n",
       "        requirejs.config({\n",
       "            paths: {\n",
       "                'plotly': ['https://cdn.plot.ly/plotly-latest.min']\n",
       "            }\n",
       "        });\n",
       "        require(['plotly'], function(Plotly) {\n",
       "            window._Plotly = Plotly;\n",
       "        });\n",
       "        }\n",
       "        </script>\n",
       "        "
      ]
     },
     "metadata": {},
     "output_type": "display_data"
    }
   ],
   "source": [
    "import pandas as pd\n",
    "import numpy as np\n",
    "import matplotlib.pyplot as plt  \n",
    "from matplotlib import style \n",
    "from sklearn.cluster import KMeans \n",
    "import cufflinks as cf\n",
    "import plotly.graph_objs as go\n",
    "from plotly.graph_objs import Figure, Data\n",
    "from sklearn.decomposition import PCA\n",
    "from sklearn.preprocessing import StandardScaler\n",
    "\n",
    "cf.go_offline()\n"
   ]
  },
  {
   "cell_type": "markdown",
   "metadata": {},
   "source": [
    "#### reading iris dataset csv file"
   ]
  },
  {
   "cell_type": "code",
   "execution_count": 4,
   "metadata": {},
   "outputs": [],
   "source": [
    "dataset = pd.read_csv('Iris.csv')"
   ]
  },
  {
   "cell_type": "code",
   "execution_count": 5,
   "metadata": {
    "scrolled": true
   },
   "outputs": [
    {
     "data": {
      "text/html": [
       "<div>\n",
       "<style scoped>\n",
       "    .dataframe tbody tr th:only-of-type {\n",
       "        vertical-align: middle;\n",
       "    }\n",
       "\n",
       "    .dataframe tbody tr th {\n",
       "        vertical-align: top;\n",
       "    }\n",
       "\n",
       "    .dataframe thead th {\n",
       "        text-align: right;\n",
       "    }\n",
       "</style>\n",
       "<table border=\"1\" class=\"dataframe\">\n",
       "  <thead>\n",
       "    <tr style=\"text-align: right;\">\n",
       "      <th></th>\n",
       "      <th>Id</th>\n",
       "      <th>SepalLengthCm</th>\n",
       "      <th>SepalWidthCm</th>\n",
       "      <th>PetalLengthCm</th>\n",
       "      <th>PetalWidthCm</th>\n",
       "      <th>Species</th>\n",
       "    </tr>\n",
       "  </thead>\n",
       "  <tbody>\n",
       "    <tr>\n",
       "      <th>0</th>\n",
       "      <td>1</td>\n",
       "      <td>5.1</td>\n",
       "      <td>3.5</td>\n",
       "      <td>1.4</td>\n",
       "      <td>0.2</td>\n",
       "      <td>Iris-setosa</td>\n",
       "    </tr>\n",
       "    <tr>\n",
       "      <th>1</th>\n",
       "      <td>2</td>\n",
       "      <td>4.9</td>\n",
       "      <td>3.0</td>\n",
       "      <td>1.4</td>\n",
       "      <td>0.2</td>\n",
       "      <td>Iris-setosa</td>\n",
       "    </tr>\n",
       "    <tr>\n",
       "      <th>2</th>\n",
       "      <td>3</td>\n",
       "      <td>4.7</td>\n",
       "      <td>3.2</td>\n",
       "      <td>1.3</td>\n",
       "      <td>0.2</td>\n",
       "      <td>Iris-setosa</td>\n",
       "    </tr>\n",
       "    <tr>\n",
       "      <th>3</th>\n",
       "      <td>4</td>\n",
       "      <td>4.6</td>\n",
       "      <td>3.1</td>\n",
       "      <td>1.5</td>\n",
       "      <td>0.2</td>\n",
       "      <td>Iris-setosa</td>\n",
       "    </tr>\n",
       "    <tr>\n",
       "      <th>4</th>\n",
       "      <td>5</td>\n",
       "      <td>5.0</td>\n",
       "      <td>3.6</td>\n",
       "      <td>1.4</td>\n",
       "      <td>0.2</td>\n",
       "      <td>Iris-setosa</td>\n",
       "    </tr>\n",
       "  </tbody>\n",
       "</table>\n",
       "</div>"
      ],
      "text/plain": [
       "   Id  SepalLengthCm  SepalWidthCm  PetalLengthCm  PetalWidthCm      Species\n",
       "0   1            5.1           3.5            1.4           0.2  Iris-setosa\n",
       "1   2            4.9           3.0            1.4           0.2  Iris-setosa\n",
       "2   3            4.7           3.2            1.3           0.2  Iris-setosa\n",
       "3   4            4.6           3.1            1.5           0.2  Iris-setosa\n",
       "4   5            5.0           3.6            1.4           0.2  Iris-setosa"
      ]
     },
     "execution_count": 5,
     "metadata": {},
     "output_type": "execute_result"
    }
   ],
   "source": [
    "dataset.head()"
   ]
  },
  {
   "cell_type": "markdown",
   "metadata": {},
   "source": [
    "#### removing Id and Species column"
   ]
  },
  {
   "cell_type": "code",
   "execution_count": 6,
   "metadata": {},
   "outputs": [],
   "source": [
    "dataset.dropna(inplace=True)\n",
    "dataset.drop(['Id','Species'], axis = 1 , inplace=True)"
   ]
  },
  {
   "cell_type": "code",
   "execution_count": 7,
   "metadata": {
    "scrolled": true
   },
   "outputs": [
    {
     "data": {
      "text/html": [
       "<div>\n",
       "<style scoped>\n",
       "    .dataframe tbody tr th:only-of-type {\n",
       "        vertical-align: middle;\n",
       "    }\n",
       "\n",
       "    .dataframe tbody tr th {\n",
       "        vertical-align: top;\n",
       "    }\n",
       "\n",
       "    .dataframe thead th {\n",
       "        text-align: right;\n",
       "    }\n",
       "</style>\n",
       "<table border=\"1\" class=\"dataframe\">\n",
       "  <thead>\n",
       "    <tr style=\"text-align: right;\">\n",
       "      <th></th>\n",
       "      <th>SepalLengthCm</th>\n",
       "      <th>SepalWidthCm</th>\n",
       "      <th>PetalLengthCm</th>\n",
       "      <th>PetalWidthCm</th>\n",
       "    </tr>\n",
       "  </thead>\n",
       "  <tbody>\n",
       "    <tr>\n",
       "      <th>0</th>\n",
       "      <td>5.1</td>\n",
       "      <td>3.5</td>\n",
       "      <td>1.4</td>\n",
       "      <td>0.2</td>\n",
       "    </tr>\n",
       "    <tr>\n",
       "      <th>1</th>\n",
       "      <td>4.9</td>\n",
       "      <td>3.0</td>\n",
       "      <td>1.4</td>\n",
       "      <td>0.2</td>\n",
       "    </tr>\n",
       "    <tr>\n",
       "      <th>2</th>\n",
       "      <td>4.7</td>\n",
       "      <td>3.2</td>\n",
       "      <td>1.3</td>\n",
       "      <td>0.2</td>\n",
       "    </tr>\n",
       "    <tr>\n",
       "      <th>3</th>\n",
       "      <td>4.6</td>\n",
       "      <td>3.1</td>\n",
       "      <td>1.5</td>\n",
       "      <td>0.2</td>\n",
       "    </tr>\n",
       "    <tr>\n",
       "      <th>4</th>\n",
       "      <td>5.0</td>\n",
       "      <td>3.6</td>\n",
       "      <td>1.4</td>\n",
       "      <td>0.2</td>\n",
       "    </tr>\n",
       "  </tbody>\n",
       "</table>\n",
       "</div>"
      ],
      "text/plain": [
       "   SepalLengthCm  SepalWidthCm  PetalLengthCm  PetalWidthCm\n",
       "0            5.1           3.5            1.4           0.2\n",
       "1            4.9           3.0            1.4           0.2\n",
       "2            4.7           3.2            1.3           0.2\n",
       "3            4.6           3.1            1.5           0.2\n",
       "4            5.0           3.6            1.4           0.2"
      ]
     },
     "execution_count": 7,
     "metadata": {},
     "output_type": "execute_result"
    }
   ],
   "source": [
    "dataset.head()"
   ]
  },
  {
   "cell_type": "markdown",
   "metadata": {},
   "source": [
    "##### standardizing the dataset to bring down into same scale"
   ]
  },
  {
   "cell_type": "code",
   "execution_count": 13,
   "metadata": {},
   "outputs": [],
   "source": [
    "sd = StandardScaler()"
   ]
  },
  {
   "cell_type": "code",
   "execution_count": 14,
   "metadata": {},
   "outputs": [],
   "source": [
    "scaled_data = sd.fit_transform(dataset)"
   ]
  },
  {
   "cell_type": "code",
   "execution_count": 15,
   "metadata": {},
   "outputs": [],
   "source": [
    "dataset = pd.DataFrame(scaled_data, columns=dataset.columns)"
   ]
  },
  {
   "cell_type": "code",
   "execution_count": 16,
   "metadata": {
    "scrolled": true
   },
   "outputs": [
    {
     "data": {
      "text/html": [
       "<div>\n",
       "<style scoped>\n",
       "    .dataframe tbody tr th:only-of-type {\n",
       "        vertical-align: middle;\n",
       "    }\n",
       "\n",
       "    .dataframe tbody tr th {\n",
       "        vertical-align: top;\n",
       "    }\n",
       "\n",
       "    .dataframe thead th {\n",
       "        text-align: right;\n",
       "    }\n",
       "</style>\n",
       "<table border=\"1\" class=\"dataframe\">\n",
       "  <thead>\n",
       "    <tr style=\"text-align: right;\">\n",
       "      <th></th>\n",
       "      <th>SepalLengthCm</th>\n",
       "      <th>SepalWidthCm</th>\n",
       "      <th>PetalLengthCm</th>\n",
       "      <th>PetalWidthCm</th>\n",
       "    </tr>\n",
       "  </thead>\n",
       "  <tbody>\n",
       "    <tr>\n",
       "      <th>0</th>\n",
       "      <td>-0.900681</td>\n",
       "      <td>1.032057</td>\n",
       "      <td>-1.341272</td>\n",
       "      <td>-1.312977</td>\n",
       "    </tr>\n",
       "    <tr>\n",
       "      <th>1</th>\n",
       "      <td>-1.143017</td>\n",
       "      <td>-0.124958</td>\n",
       "      <td>-1.341272</td>\n",
       "      <td>-1.312977</td>\n",
       "    </tr>\n",
       "    <tr>\n",
       "      <th>2</th>\n",
       "      <td>-1.385353</td>\n",
       "      <td>0.337848</td>\n",
       "      <td>-1.398138</td>\n",
       "      <td>-1.312977</td>\n",
       "    </tr>\n",
       "    <tr>\n",
       "      <th>3</th>\n",
       "      <td>-1.506521</td>\n",
       "      <td>0.106445</td>\n",
       "      <td>-1.284407</td>\n",
       "      <td>-1.312977</td>\n",
       "    </tr>\n",
       "    <tr>\n",
       "      <th>4</th>\n",
       "      <td>-1.021849</td>\n",
       "      <td>1.263460</td>\n",
       "      <td>-1.341272</td>\n",
       "      <td>-1.312977</td>\n",
       "    </tr>\n",
       "  </tbody>\n",
       "</table>\n",
       "</div>"
      ],
      "text/plain": [
       "   SepalLengthCm  SepalWidthCm  PetalLengthCm  PetalWidthCm\n",
       "0      -0.900681      1.032057      -1.341272     -1.312977\n",
       "1      -1.143017     -0.124958      -1.341272     -1.312977\n",
       "2      -1.385353      0.337848      -1.398138     -1.312977\n",
       "3      -1.506521      0.106445      -1.284407     -1.312977\n",
       "4      -1.021849      1.263460      -1.341272     -1.312977"
      ]
     },
     "execution_count": 16,
     "metadata": {},
     "output_type": "execute_result"
    }
   ],
   "source": [
    "dataset.head()"
   ]
  },
  {
   "cell_type": "code",
   "execution_count": 17,
   "metadata": {},
   "outputs": [],
   "source": [
    "df = dataset.copy(deep=True)"
   ]
  },
  {
   "cell_type": "markdown",
   "metadata": {},
   "source": [
    "#### using pca method to decompose the dimensions"
   ]
  },
  {
   "cell_type": "code",
   "execution_count": 26,
   "metadata": {},
   "outputs": [],
   "source": [
    "pca = PCA()"
   ]
  },
  {
   "cell_type": "code",
   "execution_count": 29,
   "metadata": {},
   "outputs": [],
   "source": [
    "decomposed_data = pca.fit_transform(dataset)"
   ]
  },
  {
   "cell_type": "markdown",
   "metadata": {},
   "source": [
    "#### we can calculate the explained variance for each attribute by using scikit-learn, and plot the result"
   ]
  },
  {
   "cell_type": "code",
   "execution_count": 32,
   "metadata": {
    "scrolled": true
   },
   "outputs": [
    {
     "data": {
      "image/png": "[encoded data removed]",
      "text/plain": [
       "<Figure size 432x288 with 1 Axes>"
      ]
     },
     "metadata": {
      "needs_background": "light"
     },
     "output_type": "display_data"
    }
   ],
   "source": [
    "#Plotting the Cumulative Summation of the Explained Variance\n",
    "plt.figure()\n",
    "plt.plot(np.cumsum(pca.explained_variance_ratio_))\n",
    "plt.xlabel('Number of Components')\n",
    "plt.ylabel('Variance (%)') #for each component\n",
    "plt.title('Iris Dataset Explained Variance')\n",
    "plt.show()"
   ]
  },
  {
   "cell_type": "markdown",
   "metadata": {},
   "source": [
    "This plot tells us that selecting 2 components we can preserve something around 98.8% or 99% of the total variance of the data. It makes sense, we’ll not use 100% of our variance, because it denotes all components, and we want only the principal ones."
   ]
  },
  {
   "cell_type": "code",
   "execution_count": 33,
   "metadata": {},
   "outputs": [],
   "source": [
    "pca = PCA(n_components=2)"
   ]
  },
  {
   "cell_type": "code",
   "execution_count": 34,
   "metadata": {},
   "outputs": [],
   "source": [
    "decomposed_data = pca.fit_transform(dataset)"
   ]
  },
  {
   "cell_type": "code",
   "execution_count": 35,
   "metadata": {},
   "outputs": [],
   "source": [
    "columns = ['component#%i' % i for i in range(2)]"
   ]
  },
  {
   "cell_type": "code",
   "execution_count": 36,
   "metadata": {},
   "outputs": [],
   "source": [
    "decomposed_df = pd.DataFrame(decomposed_data, columns=columns)"
   ]
  },
  {
   "cell_type": "code",
   "execution_count": 37,
   "metadata": {
    "scrolled": true
   },
   "outputs": [
    {
     "data": {
      "text/html": [
       "<div>\n",
       "<style scoped>\n",
       "    .dataframe tbody tr th:only-of-type {\n",
       "        vertical-align: middle;\n",
       "    }\n",
       "\n",
       "    .dataframe tbody tr th {\n",
       "        vertical-align: top;\n",
       "    }\n",
       "\n",
       "    .dataframe thead th {\n",
       "        text-align: right;\n",
       "    }\n",
       "</style>\n",
       "<table border=\"1\" class=\"dataframe\">\n",
       "  <thead>\n",
       "    <tr style=\"text-align: right;\">\n",
       "      <th></th>\n",
       "      <th>component#0</th>\n",
       "      <th>component#1</th>\n",
       "    </tr>\n",
       "  </thead>\n",
       "  <tbody>\n",
       "    <tr>\n",
       "      <th>0</th>\n",
       "      <td>-2.264542</td>\n",
       "      <td>0.505704</td>\n",
       "    </tr>\n",
       "    <tr>\n",
       "      <th>1</th>\n",
       "      <td>-2.086426</td>\n",
       "      <td>-0.655405</td>\n",
       "    </tr>\n",
       "    <tr>\n",
       "      <th>2</th>\n",
       "      <td>-2.367950</td>\n",
       "      <td>-0.318477</td>\n",
       "    </tr>\n",
       "    <tr>\n",
       "      <th>3</th>\n",
       "      <td>-2.304197</td>\n",
       "      <td>-0.575368</td>\n",
       "    </tr>\n",
       "    <tr>\n",
       "      <th>4</th>\n",
       "      <td>-2.388777</td>\n",
       "      <td>0.674767</td>\n",
       "    </tr>\n",
       "  </tbody>\n",
       "</table>\n",
       "</div>"
      ],
      "text/plain": [
       "   component#0  component#1\n",
       "0    -2.264542     0.505704\n",
       "1    -2.086426    -0.655405\n",
       "2    -2.367950    -0.318477\n",
       "3    -2.304197    -0.575368\n",
       "4    -2.388777     0.674767"
      ]
     },
     "execution_count": 37,
     "metadata": {},
     "output_type": "execute_result"
    }
   ],
   "source": [
    "decomposed_df.head()"
   ]
  },
  {
   "cell_type": "code",
   "execution_count": 38,
   "metadata": {},
   "outputs": [
    {
     "data": {
      "text/plain": [
       "array([0.72770452, 0.23030523])"
      ]
     },
     "execution_count": 38,
     "metadata": {},
     "output_type": "execute_result"
    }
   ],
   "source": [
    "pca.explained_variance_ratio_"
   ]
  },
  {
   "cell_type": "markdown",
   "metadata": {},
   "source": [
    "#### Using elbow method to compute the clusters"
   ]
  },
  {
   "cell_type": "code",
   "execution_count": 39,
   "metadata": {},
   "outputs": [],
   "source": [
    "wcss = []\n",
    "clusters = []\n",
    "d = []\n",
    "for k in range(1, 40):\n",
    "    kmeans = KMeans(n_clusters=k, init=\"k-means++\", n_init=10,\n",
    "                    max_iter=300)\n",
    "    kmeans.fit_predict(dataset)\n",
    "    wcss.append(kmeans.inertia_)\n",
    "    clusters.append(k)"
   ]
  },
  {
   "cell_type": "markdown",
   "metadata": {},
   "source": [
    "#### using plotly method to plot elbow curve"
   ]
  },
  {
   "cell_type": "code",
   "execution_count": 41,
   "metadata": {
    "scrolled": false
   },
   "outputs": [
    {
     "data": {
      "application/vnd.plotly.v1+json": {
       "config": {
        "plotlyServerURL": "https://plot.ly"
       },
       "data": [
        {
         "type": "scatter",
         "uid": "8d66dcd8-c0fb-4b7e-a244-cedd75011884",
         "x": [
          1,
          2,
          3,
          4,
          5,
          6,
          7,
          8,
          9,
          10,
          11,
          12,
          13,
          14,
          15,
          16,
          17,
          18,
          19,
          20,
          21,
          22,
          23,
          24,
          25,
          26,
          27,
          28,
          29,
          30,
          31,
          32,
          33,
          34,
          35,
          36,
          37,
          38,
          39
         ],
         "y": [
          600,
          223.73200573676345,
          140.96581663074699,
          114.61550694959809,
          91.00244098567248,
          80.73867579688937,
          70.88546993521875,
          64.50209887328828,
          54.64612561783833,
          47.8509213570517,
          43.278429590787184,
          40.93619732855405,
          36.52920519699788,
          34.937719051108175,
          32.892993498430236,
          30.570195815903134,
          29.79439795888126,
          26.41528448030294,
          25.554083786847983,
          24.3596394295432,
          23.254916403819767,
          22.040881114950864,
          21.2346529364086,
          20.872866388431287,
          19.507435434449036,
          18.726296323755328,
          18.113677140990823,
          16.78462915469143,
          16.360564933517416,
          16.330045490393044,
          15.699450883198637,
          14.692716003297889,
          13.92914003856303,
          13.666689595935718,
          13.394926527403591,
          12.673556968915133,
          12.43081378696697,
          12.206629183295421,
          11.778749881246481
         ]
        }
       ],
       "layout": {
        "paper_bgcolor": "rgba(0,0,0,0)",
        "plot_bgcolor": "rgba(0,0,0,0)",
        "title": {
         "text": "Computing WCSS for KMeans++"
        },
        "xaxis": {
         "title": {
          "text": "Number of clusters"
         }
        },
        "yaxis": {
         "title": {
          "text": "Sum of squared errors"
         }
        }
       }
      },
      "text/html": [
       "<div>\n",
       "        \n",
       "        \n",
       "            <div id=\"c4ef716a-ed13-4285-93df-20343e1ab3f9\" class=\"plotly-graph-div\" style=\"height:525px; width:100%;\"></div>\n",
       "            <script type=\"text/javascript\">\n",
       "                require([\"plotly\"], function(Plotly) {\n",
       "                    window.PLOTLYENV=window.PLOTLYENV || {};\n",
       "                    window.PLOTLYENV.BASE_URL='https://plot.ly';\n",
       "                    \n",
       "                if (document.getElementById(\"c4ef716a-ed13-4285-93df-20343e1ab3f9\")) {\n",
       "                    Plotly.newPlot(\n",
       "                        'c4ef716a-ed13-4285-93df-20343e1ab3f9',\n",
       "                        [{\"type\": \"scatter\", \"uid\": \"8d66dcd8-c0fb-4b7e-a244-cedd75011884\", \"x\": [1, 2, 3, 4, 5, 6, 7, 8, 9, 10, 11, 12, 13, 14, 15, 16, 17, 18, 19, 20, 21, 22, 23, 24, 25, 26, 27, 28, 29, 30, 31, 32, 33, 34, 35, 36, 37, 38, 39], \"y\": [600.0, 223.73200573676345, 140.96581663074699, 114.61550694959809, 91.00244098567248, 80.73867579688937, 70.88546993521875, 64.50209887328828, 54.64612561783833, 47.8509213570517, 43.278429590787184, 40.93619732855405, 36.52920519699788, 34.937719051108175, 32.892993498430236, 30.570195815903134, 29.79439795888126, 26.41528448030294, 25.554083786847983, 24.3596394295432, 23.254916403819767, 22.040881114950864, 21.2346529364086, 20.872866388431287, 19.507435434449036, 18.726296323755328, 18.113677140990823, 16.78462915469143, 16.360564933517416, 16.330045490393044, 15.699450883198637, 14.692716003297889, 13.92914003856303, 13.666689595935718, 13.394926527403591, 12.673556968915133, 12.43081378696697, 12.206629183295421, 11.778749881246481]}],\n",
       "                        {\"paper_bgcolor\": \"rgba(0,0,0,0)\", \"plot_bgcolor\": \"rgba(0,0,0,0)\", \"title\": {\"text\": \"Computing WCSS for KMeans++\"}, \"xaxis\": {\"title\": {\"text\": \"Number of clusters\"}}, \"yaxis\": {\"title\": {\"text\": \"Sum of squared errors\"}}},\n",
       "                        {\"plotlyServerURL\": \"https://plot.ly\", \"responsive\": true}\n",
       "                    ).then(function(){\n",
       "                            \n",
       "var gd = document.getElementById('c4ef716a-ed13-4285-93df-20343e1ab3f9');\n",
       "var x = new MutationObserver(function (mutations, observer) {{\n",
       "        var display = window.getComputedStyle(gd).display;\n",
       "        if (!display || display === 'none') {{\n",
       "            console.log([gd, 'removed!']);\n",
       "            Plotly.purge(gd);\n",
       "            observer.disconnect();\n",
       "        }}\n",
       "}});\n",
       "\n",
       "// Listen for the removal of the full notebook cells\n",
       "var notebookContainer = gd.closest('#notebook-container');\n",
       "if (notebookContainer) {{\n",
       "    x.observe(notebookContainer, {childList: true});\n",
       "}}\n",
       "\n",
       "// Listen for the clearing of the current output cell\n",
       "var outputEl = gd.closest('.output');\n",
       "if (outputEl) {{\n",
       "    x.observe(outputEl, {childList: true});\n",
       "}}\n",
       "\n",
       "                        })\n",
       "                };\n",
       "                });\n",
       "            </script>\n",
       "        </div>"
      ]
     },
     "metadata": {},
     "output_type": "display_data"
    }
   ],
   "source": [
    "data = {\n",
    "                \"type\": \"scatter\",\n",
    "                \"x\": clusters,\n",
    "                \"y\": wcss\n",
    "            }\n",
    "\n",
    "data = Data([data])\n",
    "layout = go.Layout(\n",
    "    title=\"Computing WCSS for KMeans++\",\n",
    "    yaxis=dict(title='Sum of squared errors'),\n",
    "    xaxis=dict(title='Number of clusters'),\n",
    "    paper_bgcolor='rgba(0,0,0,0)',\n",
    "    plot_bgcolor='rgba(0,0,0,0)'\n",
    ")\n",
    "\n",
    "fig = Figure(data=data, layout=layout)\n",
    "fig.show()"
   ]
  },
  {
   "cell_type": "markdown",
   "metadata": {},
   "source": [
    "as per above graph 5 clusters seems good to proceed further"
   ]
  },
  {
   "cell_type": "code",
   "execution_count": 42,
   "metadata": {},
   "outputs": [],
   "source": [
    "kmeans = KMeans(n_clusters=5, init=\"k-means++\", n_init=10,\n",
    "                    max_iter=300)"
   ]
  },
  {
   "cell_type": "code",
   "execution_count": 43,
   "metadata": {},
   "outputs": [
    {
     "data": {
      "text/plain": [
       "KMeans(algorithm='auto', copy_x=True, init='k-means++', max_iter=300,\n",
       "    n_clusters=5, n_init=10, n_jobs=None, precompute_distances='auto',\n",
       "    random_state=None, tol=0.0001, verbose=0)"
      ]
     },
     "execution_count": 43,
     "metadata": {},
     "output_type": "execute_result"
    }
   ],
   "source": [
    "kmeans"
   ]
  },
  {
   "cell_type": "code",
   "execution_count": 44,
   "metadata": {},
   "outputs": [
    {
     "data": {
      "text/plain": [
       "KMeans(algorithm='auto', copy_x=True, init='k-means++', max_iter=300,\n",
       "    n_clusters=5, n_init=10, n_jobs=None, precompute_distances='auto',\n",
       "    random_state=None, tol=0.0001, verbose=0)"
      ]
     },
     "execution_count": 44,
     "metadata": {},
     "output_type": "execute_result"
    }
   ],
   "source": [
    "kmeans.fit(decomposed_df)"
   ]
  },
  {
   "cell_type": "code",
   "execution_count": 45,
   "metadata": {},
   "outputs": [
    {
     "data": {
      "text/plain": [
       "array([4, 0, 0, 0, 4, 4, 0, 0, 0, 0, 4, 0, 0, 0, 4, 4, 4, 4, 4, 4, 4, 4,\n",
       "       4, 0, 0, 0, 4, 4, 4, 0, 0, 4, 4, 4, 0, 0, 4, 0, 0, 4, 4, 0, 0, 4,\n",
       "       4, 0, 4, 0, 4, 0, 2, 1, 1, 3, 1, 3, 1, 3, 1, 3, 3, 1, 3, 1, 3, 1,\n",
       "       1, 3, 3, 3, 1, 1, 1, 1, 1, 1, 1, 1, 1, 3, 3, 3, 3, 1, 1, 1, 1, 3,\n",
       "       1, 3, 3, 1, 3, 3, 3, 1, 1, 1, 3, 3, 2, 1, 2, 1, 2, 2, 3, 2, 1, 2,\n",
       "       2, 1, 2, 3, 1, 2, 1, 2, 2, 3, 2, 1, 2, 1, 2, 2, 1, 1, 1, 2, 2, 2,\n",
       "       1, 1, 1, 2, 2, 1, 1, 2, 2, 2, 1, 2, 2, 2, 1, 1, 2, 1], dtype=int32)"
      ]
     },
     "execution_count": 45,
     "metadata": {},
     "output_type": "execute_result"
    }
   ],
   "source": [
    "kmeans.labels_"
   ]
  },
  {
   "cell_type": "markdown",
   "metadata": {},
   "source": [
    "#### adding cluters into original dataframe"
   ]
  },
  {
   "cell_type": "code",
   "execution_count": 46,
   "metadata": {},
   "outputs": [],
   "source": [
    "dataset.insert(loc=0, column='clusters', value=pd.Series(kmeans.labels_).astype(int))"
   ]
  },
  {
   "cell_type": "code",
   "execution_count": 47,
   "metadata": {
    "scrolled": false
   },
   "outputs": [
    {
     "data": {
      "text/html": [
       "<div>\n",
       "<style scoped>\n",
       "    .dataframe tbody tr th:only-of-type {\n",
       "        vertical-align: middle;\n",
       "    }\n",
       "\n",
       "    .dataframe tbody tr th {\n",
       "        vertical-align: top;\n",
       "    }\n",
       "\n",
       "    .dataframe thead th {\n",
       "        text-align: right;\n",
       "    }\n",
       "</style>\n",
       "<table border=\"1\" class=\"dataframe\">\n",
       "  <thead>\n",
       "    <tr style=\"text-align: right;\">\n",
       "      <th></th>\n",
       "      <th>clusters</th>\n",
       "      <th>SepalLengthCm</th>\n",
       "      <th>SepalWidthCm</th>\n",
       "      <th>PetalLengthCm</th>\n",
       "      <th>PetalWidthCm</th>\n",
       "    </tr>\n",
       "  </thead>\n",
       "  <tbody>\n",
       "    <tr>\n",
       "      <th>0</th>\n",
       "      <td>4</td>\n",
       "      <td>-0.900681</td>\n",
       "      <td>1.032057</td>\n",
       "      <td>-1.341272</td>\n",
       "      <td>-1.312977</td>\n",
       "    </tr>\n",
       "    <tr>\n",
       "      <th>1</th>\n",
       "      <td>0</td>\n",
       "      <td>-1.143017</td>\n",
       "      <td>-0.124958</td>\n",
       "      <td>-1.341272</td>\n",
       "      <td>-1.312977</td>\n",
       "    </tr>\n",
       "    <tr>\n",
       "      <th>2</th>\n",
       "      <td>0</td>\n",
       "      <td>-1.385353</td>\n",
       "      <td>0.337848</td>\n",
       "      <td>-1.398138</td>\n",
       "      <td>-1.312977</td>\n",
       "    </tr>\n",
       "    <tr>\n",
       "      <th>3</th>\n",
       "      <td>0</td>\n",
       "      <td>-1.506521</td>\n",
       "      <td>0.106445</td>\n",
       "      <td>-1.284407</td>\n",
       "      <td>-1.312977</td>\n",
       "    </tr>\n",
       "    <tr>\n",
       "      <th>4</th>\n",
       "      <td>4</td>\n",
       "      <td>-1.021849</td>\n",
       "      <td>1.263460</td>\n",
       "      <td>-1.341272</td>\n",
       "      <td>-1.312977</td>\n",
       "    </tr>\n",
       "    <tr>\n",
       "      <th>5</th>\n",
       "      <td>4</td>\n",
       "      <td>-0.537178</td>\n",
       "      <td>1.957669</td>\n",
       "      <td>-1.170675</td>\n",
       "      <td>-1.050031</td>\n",
       "    </tr>\n",
       "    <tr>\n",
       "      <th>6</th>\n",
       "      <td>0</td>\n",
       "      <td>-1.506521</td>\n",
       "      <td>0.800654</td>\n",
       "      <td>-1.341272</td>\n",
       "      <td>-1.181504</td>\n",
       "    </tr>\n",
       "    <tr>\n",
       "      <th>7</th>\n",
       "      <td>0</td>\n",
       "      <td>-1.021849</td>\n",
       "      <td>0.800654</td>\n",
       "      <td>-1.284407</td>\n",
       "      <td>-1.312977</td>\n",
       "    </tr>\n",
       "    <tr>\n",
       "      <th>8</th>\n",
       "      <td>0</td>\n",
       "      <td>-1.748856</td>\n",
       "      <td>-0.356361</td>\n",
       "      <td>-1.341272</td>\n",
       "      <td>-1.312977</td>\n",
       "    </tr>\n",
       "    <tr>\n",
       "      <th>9</th>\n",
       "      <td>0</td>\n",
       "      <td>-1.143017</td>\n",
       "      <td>0.106445</td>\n",
       "      <td>-1.284407</td>\n",
       "      <td>-1.444450</td>\n",
       "    </tr>\n",
       "  </tbody>\n",
       "</table>\n",
       "</div>"
      ],
      "text/plain": [
       "   clusters  SepalLengthCm  SepalWidthCm  PetalLengthCm  PetalWidthCm\n",
       "0         4      -0.900681      1.032057      -1.341272     -1.312977\n",
       "1         0      -1.143017     -0.124958      -1.341272     -1.312977\n",
       "2         0      -1.385353      0.337848      -1.398138     -1.312977\n",
       "3         0      -1.506521      0.106445      -1.284407     -1.312977\n",
       "4         4      -1.021849      1.263460      -1.341272     -1.312977\n",
       "5         4      -0.537178      1.957669      -1.170675     -1.050031\n",
       "6         0      -1.506521      0.800654      -1.341272     -1.181504\n",
       "7         0      -1.021849      0.800654      -1.284407     -1.312977\n",
       "8         0      -1.748856     -0.356361      -1.341272     -1.312977\n",
       "9         0      -1.143017      0.106445      -1.284407     -1.444450"
      ]
     },
     "execution_count": 47,
     "metadata": {},
     "output_type": "execute_result"
    }
   ],
   "source": [
    "dataset.head(10)"
   ]
  },
  {
   "cell_type": "markdown",
   "metadata": {},
   "source": [
    "#### adding clusters colums to decomposed dataframe for plotting the cluters"
   ]
  },
  {
   "cell_type": "code",
   "execution_count": 64,
   "metadata": {},
   "outputs": [],
   "source": [
    "decomposed_df.insert(loc=0, column='clusters', value=pd.Series(kmeans.labels_).astype(int))"
   ]
  },
  {
   "cell_type": "code",
   "execution_count": 48,
   "metadata": {},
   "outputs": [
    {
     "data": {
      "text/plain": [
       "1    47\n",
       "2    28\n",
       "4    26\n",
       "3    25\n",
       "0    24\n",
       "Name: clusters, dtype: int64"
      ]
     },
     "execution_count": 48,
     "metadata": {},
     "output_type": "execute_result"
    }
   ],
   "source": [
    "dataset['clusters'].value_counts()"
   ]
  },
  {
   "cell_type": "markdown",
   "metadata": {},
   "source": [
    "* seems clusters1 has max datapoints"
   ]
  },
  {
   "cell_type": "code",
   "execution_count": 49,
   "metadata": {
    "scrolled": false
   },
   "outputs": [
    {
     "data": {
      "text/plain": [
       "array([[-2.23801679, -0.46519921],\n",
       "       [ 0.98713998, -0.11763931],\n",
       "       [ 2.05721014,  0.85674839],\n",
       "       [ 0.28048804, -1.32284594],\n",
       "       [-2.20374081,  0.99138547]])"
      ]
     },
     "execution_count": 49,
     "metadata": {},
     "output_type": "execute_result"
    }
   ],
   "source": [
    "kmeans.cluster_centers_"
   ]
  },
  {
   "cell_type": "markdown",
   "metadata": {},
   "source": [
    "#### creating dataframe for centers"
   ]
  },
  {
   "cell_type": "code",
   "execution_count": 57,
   "metadata": {},
   "outputs": [],
   "source": [
    "centroid_df = pd.DataFrame(kmeans.cluster_centers_, columns = decomposed_df.columns)"
   ]
  },
  {
   "cell_type": "code",
   "execution_count": 58,
   "metadata": {
    "scrolled": true
   },
   "outputs": [
    {
     "data": {
      "text/html": [
       "<div>\n",
       "<style scoped>\n",
       "    .dataframe tbody tr th:only-of-type {\n",
       "        vertical-align: middle;\n",
       "    }\n",
       "\n",
       "    .dataframe tbody tr th {\n",
       "        vertical-align: top;\n",
       "    }\n",
       "\n",
       "    .dataframe thead th {\n",
       "        text-align: right;\n",
       "    }\n",
       "</style>\n",
       "<table border=\"1\" class=\"dataframe\">\n",
       "  <thead>\n",
       "    <tr style=\"text-align: right;\">\n",
       "      <th></th>\n",
       "      <th>component#0</th>\n",
       "      <th>component#1</th>\n",
       "    </tr>\n",
       "  </thead>\n",
       "  <tbody>\n",
       "    <tr>\n",
       "      <th>0</th>\n",
       "      <td>-2.238017</td>\n",
       "      <td>-0.465199</td>\n",
       "    </tr>\n",
       "    <tr>\n",
       "      <th>1</th>\n",
       "      <td>0.987140</td>\n",
       "      <td>-0.117639</td>\n",
       "    </tr>\n",
       "    <tr>\n",
       "      <th>2</th>\n",
       "      <td>2.057210</td>\n",
       "      <td>0.856748</td>\n",
       "    </tr>\n",
       "    <tr>\n",
       "      <th>3</th>\n",
       "      <td>0.280488</td>\n",
       "      <td>-1.322846</td>\n",
       "    </tr>\n",
       "    <tr>\n",
       "      <th>4</th>\n",
       "      <td>-2.203741</td>\n",
       "      <td>0.991385</td>\n",
       "    </tr>\n",
       "  </tbody>\n",
       "</table>\n",
       "</div>"
      ],
      "text/plain": [
       "   component#0  component#1\n",
       "0    -2.238017    -0.465199\n",
       "1     0.987140    -0.117639\n",
       "2     2.057210     0.856748\n",
       "3     0.280488    -1.322846\n",
       "4    -2.203741     0.991385"
      ]
     },
     "execution_count": 58,
     "metadata": {},
     "output_type": "execute_result"
    }
   ],
   "source": [
    "centroid_df.head()"
   ]
  },
  {
   "cell_type": "code",
   "execution_count": 63,
   "metadata": {},
   "outputs": [
    {
     "data": {
      "text/html": [
       "<div>\n",
       "<style scoped>\n",
       "    .dataframe tbody tr th:only-of-type {\n",
       "        vertical-align: middle;\n",
       "    }\n",
       "\n",
       "    .dataframe tbody tr th {\n",
       "        vertical-align: top;\n",
       "    }\n",
       "\n",
       "    .dataframe thead th {\n",
       "        text-align: right;\n",
       "    }\n",
       "</style>\n",
       "<table border=\"1\" class=\"dataframe\">\n",
       "  <thead>\n",
       "    <tr style=\"text-align: right;\">\n",
       "      <th></th>\n",
       "      <th>clusters</th>\n",
       "      <th>SepalLengthCm</th>\n",
       "      <th>SepalWidthCm</th>\n",
       "      <th>PetalLengthCm</th>\n",
       "      <th>PetalWidthCm</th>\n",
       "    </tr>\n",
       "  </thead>\n",
       "  <tbody>\n",
       "    <tr>\n",
       "      <th>0</th>\n",
       "      <td>4</td>\n",
       "      <td>-0.900681</td>\n",
       "      <td>1.032057</td>\n",
       "      <td>-1.341272</td>\n",
       "      <td>-1.312977</td>\n",
       "    </tr>\n",
       "    <tr>\n",
       "      <th>1</th>\n",
       "      <td>0</td>\n",
       "      <td>-1.143017</td>\n",
       "      <td>-0.124958</td>\n",
       "      <td>-1.341272</td>\n",
       "      <td>-1.312977</td>\n",
       "    </tr>\n",
       "    <tr>\n",
       "      <th>2</th>\n",
       "      <td>0</td>\n",
       "      <td>-1.385353</td>\n",
       "      <td>0.337848</td>\n",
       "      <td>-1.398138</td>\n",
       "      <td>-1.312977</td>\n",
       "    </tr>\n",
       "    <tr>\n",
       "      <th>3</th>\n",
       "      <td>0</td>\n",
       "      <td>-1.506521</td>\n",
       "      <td>0.106445</td>\n",
       "      <td>-1.284407</td>\n",
       "      <td>-1.312977</td>\n",
       "    </tr>\n",
       "    <tr>\n",
       "      <th>4</th>\n",
       "      <td>4</td>\n",
       "      <td>-1.021849</td>\n",
       "      <td>1.263460</td>\n",
       "      <td>-1.341272</td>\n",
       "      <td>-1.312977</td>\n",
       "    </tr>\n",
       "  </tbody>\n",
       "</table>\n",
       "</div>"
      ],
      "text/plain": [
       "   clusters  SepalLengthCm  SepalWidthCm  PetalLengthCm  PetalWidthCm\n",
       "0         4      -0.900681      1.032057      -1.341272     -1.312977\n",
       "1         0      -1.143017     -0.124958      -1.341272     -1.312977\n",
       "2         0      -1.385353      0.337848      -1.398138     -1.312977\n",
       "3         0      -1.506521      0.106445      -1.284407     -1.312977\n",
       "4         4      -1.021849      1.263460      -1.341272     -1.312977"
      ]
     },
     "execution_count": 63,
     "metadata": {},
     "output_type": "execute_result"
    }
   ],
   "source": [
    "dataset.head()"
   ]
  },
  {
   "cell_type": "code",
   "execution_count": 72,
   "metadata": {
    "scrolled": false
   },
   "outputs": [
    {
     "data": {
      "application/vnd.plotly.v1+json": {
       "config": {
        "plotlyServerURL": "https://plot.ly"
       },
       "data": [
        {
         "marker": {
          "color": "teal",
          "line": {
           "color": "navy",
           "width": 0.5
          },
          "size": 12,
          "symbol": "cross"
         },
         "mode": "markers",
         "name": "cluster4",
         "type": "scatter",
         "uid": "95783105-731a-41c5-b4c7-92986d3dbbf9",
         "x": [
          -2.264541728394902,
          -2.3887774935056427,
          -2.070536807180554,
          -2.1634865562665233,
          -2.19229150849843,
          -2.2514652145840657,
          -2.2027504800800863,
          -2.1901791637910524,
          -1.8940742930236685,
          -2.3399490704234087,
          -1.9145563949595175,
          -2.204645397533814,
          -2.7741697937051573,
          -2.052063311276687,
          -2.1681936533450217,
          -2.1403059632841583,
          -1.8319381022015875,
          -2.6082028676633486,
          -2.437950859095143,
          -2.0444165193198005,
          -2.1705472018842706,
          -2.2865272388409306,
          -1.9642792903547375,
          -2.1333728329200286,
          -2.3812582168023733,
          -2.226781213091519
         ],
         "y": [
          0.5057039027737856,
          0.6747673967025161,
          1.5185485598885144,
          1.0705955760377275,
          1.8899785123164672,
          2.7223710765744706,
          1.5137502825462201,
          0.5143043082206935,
          1.4311107069412379,
          1.158033428985002,
          0.4304651632801388,
          0.9524573172889991,
          0.4895170265034958,
          0.2660143119816558,
          0.5520164953235407,
          0.33664040884505503,
          0.4452668355028077,
          1.8284751927341027,
          2.185391615630894,
          0.6849564262949374,
          0.29272695496644696,
          0.4679917156709386,
          0.49739164001838393,
          1.171432111774205,
          1.1506325928736676,
          1.0254825528235456
         ]
        },
        {
         "marker": {
          "color": "rgb(200,10,10)",
          "symbol": "cross"
         },
         "name": "centroid4",
         "type": "scatter",
         "uid": "e21d99a0-5e26-4a41-b898-41679a106e56",
         "x": [
          -2.203740814308709
         ],
         "y": [
          0.9913854658653636
         ]
        },
        {
         "marker": {
          "color": "yellow",
          "line": {
           "color": "navy",
           "width": 0.5
          },
          "size": 12,
          "symbol": "circle"
         },
         "mode": "markers",
         "name": "cluster0",
         "type": "scatter",
         "uid": "212970b8-88c1-4a86-92f4-28de5597e232",
         "x": [
          -2.086425500616159,
          -2.3679504490625254,
          -2.30419716115201,
          -2.4457113396302845,
          -2.2338418587092663,
          -2.3419576764553907,
          -2.1886757552808707,
          -2.3273777541343748,
          -2.224082722045003,
          -2.63971626084463,
          -1.8204115633372144,
          -2.228217499459726,
          -1.9570240073413974,
          -2.2687901943878774,
          -2.1445544292771355,
          -2.1886757552808707,
          -2.2111198968124226,
          -2.1886757552808707,
          -2.4359522029660203,
          -1.8717072235369512,
          -2.5578344195375133,
          -2.075357592837307,
          -2.3981916876626395,
          -2.205954168648403
         ],
         "y": [
          -0.6554047293691372,
          -0.3184773108472486,
          -0.575367712533195,
          0.0745626750068747,
          0.24761393175226584,
          -1.0951463625829554,
          -0.4486290483375586,
          0.15858745465947663,
          -0.7091181580302259,
          -0.9382819821078539,
          0.10675079283540656,
          0.16218616266619756,
          -0.6078925674838078,
          -0.3148786028405278,
          -0.4839420967692586,
          -0.4486290483375586,
          -0.18433781054027834,
          -0.4486290483375586,
          -0.8821694147756167,
          -2.327691606114911,
          -0.4538163804897928,
          -0.6919173471364097,
          -0.36239076472585663,
          0.03223784527378008
         ]
        },
        {
         "marker": {
          "color": "rgb(200,10,10)",
          "symbol": "circle"
         },
         "name": "centroid0",
         "type": "scatter",
         "uid": "b0628195-0fb0-4545-83df-0b6e81a309e2",
         "x": [
          -2.2380167864290357
         ],
         "y": [
          -0.46519921371523953
         ]
        },
        {
         "marker": {
          "color": "magenta",
          "line": {
           "color": "navy",
           "width": 0.5
          },
          "size": 12,
          "symbol": "triangle-up"
         },
         "mode": "markers",
         "name": "cluster2",
         "type": "scatter",
         "uid": "d35a89e4-d8f3-445c-803a-00119178df59",
         "x": [
          1.1039936528045726,
          1.8476725943096644,
          2.206349497126594,
          1.8678907025555853,
          2.7541967088257535,
          2.3030058981503196,
          2.2675545991022688,
          1.3659094292022147,
          1.884251853752075,
          1.591809302638529,
          2.437378482193509,
          3.30914118267608,
          2.0404962596630396,
          2.8980644358432777,
          1.704240708519606,
          1.9577276617934363,
          1.8647779127074668,
          2.435497391415144,
          2.3160824119611547,
          2.80094940373403,
          1.5801552485205375,
          1.8535519840664412,
          2.0161572006777595,
          1.9031168585994875,
          2.04330843928781,
          2.0016909669349983,
          1.8705220714601263,
          1.376391190641928
         ],
         "y": [
          0.8631124458513246,
          0.871696661773413,
          0.5544701049349227,
          0.29119280176116896,
          0.7884322063548451,
          0.40951669522194345,
          1.921442991465355,
          0.6939480398041612,
          0.41433275795008384,
          0.6770353716018517,
          2.5567573414948024,
          -0.0023613201020834837,
          0.907398765015053,
          0.39779135917186803,
          1.0141484248357853,
          1.0033345154297775,
          0.5553815315789898,
          0.24665446806897393,
          2.6261838690226282,
          0.8447481937849745,
          1.0724744961271222,
          0.6724227289716038,
          0.6103970375551128,
          0.686024831858699,
          0.864684880472019,
          1.0485500466234177,
          0.382821837622998,
          1.0163619287948857
         ]
        },
        {
         "marker": {
          "color": "rgb(200,10,10)",
          "symbol": "triangle-up"
         },
         "name": "centroid2",
         "type": "scatter",
         "uid": "22c9c471-4109-447d-ac38-488922d2bf07",
         "x": [
          2.05721014461298
         ],
         "y": [
          0.8567483933230606
         ]
        },
        {
         "marker": {
          "color": "blue",
          "line": {
           "color": "navy",
           "width": 0.5
          },
          "size": 12,
          "symbol": "square"
         },
         "mode": "markers",
         "name": "cluster1",
         "type": "scatter",
         "uid": "dd405aa1-2f71-4264-8e2c-128ea58c9d8f",
         "x": [
          0.7324814400086809,
          1.242109505318938,
          1.0725939482015456,
          0.7487150759515532,
          0.9262223675330985,
          0.43873011778054677,
          0.7171650662368515,
          0.8758905359406833,
          0.3480064019802087,
          0.738256104369896,
          0.4723696823445687,
          1.2279882140834428,
          0.629381045314902,
          0.7004727992084585,
          0.8735369874014338,
          1.2542221905224507,
          1.3582398473872723,
          0.6621261375659379,
          1.0566914280905768,
          0.2214170883302177,
          0.43178316074105344,
          1.0494133552191804,
          0.06706759987298026,
          0.6231705397262217,
          0.08905311031901136,
          0.224356783208606,
          0.573883485558467,
          1.1531898082521295,
          1.4386854023261826,
          2.0017352992189172,
          1.5990645856518697,
          1.464061522985623,
          1.4712801894655443,
          0.9739151144704739,
          1.329193691323494,
          1.171904507987869,
          1.0197810528162632,
          1.7860088612484688,
          1.8603714258523165,
          1.1112717256759694,
          1.197469155118038,
          1.3470444243548023,
          0.9234329777663843,
          1.1531898082521295,
          1.558491890723718,
          1.5208450639985909,
          0.959298575616038
         ],
         "y": [
          0.5986355733419975,
          0.6148224496122867,
          -0.2117579026798959,
          0.7786986113887825,
          0.03033082678338099,
          -0.05888128502145447,
          -0.185434314505044,
          0.5099981510591476,
          -0.19062164665727788,
          0.4024703816185359,
          -0.4166082224438798,
          -0.9409147925302725,
          -0.4168116425417724,
          -0.06349392765170236,
          0.2507086107020539,
          -0.08262009981311272,
          0.3288202662704019,
          -0.2243460709434644,
          -0.6369012837689374,
          -0.28084769308564034,
          0.8551369202180029,
          0.5221972645127767,
          -0.21262073489338879,
          0.027542633302294412,
          -0.1749085477905417,
          -0.3804846594865457,
          -0.1537199740800651,
          -0.7013261138565761,
          -0.050010522268885686,
          -0.72386535931266,
          -0.42824883590033996,
          -0.4441475694791239,
          0.2531924719668155,
          -0.5711743763662667,
          -0.4867605419037244,
          -0.3188966173105681,
          0.06554296309664795,
          -0.19327279985689172,
          -0.18467239440998356,
          -0.2959861024303905,
          -0.817167741913616,
          0.4222559658955462,
          0.019230370546893055,
          -0.7013261138565761,
          -0.9053136014070666,
          0.2667945748539107,
          -0.022283944660567143
         ]
        },
        {
         "marker": {
          "color": "rgb(200,10,10)",
          "symbol": "square"
         },
         "name": "centroid1",
         "type": "scatter",
         "uid": "0ec4d8f4-20d9-49d2-b32c-794963fd9ef3",
         "x": [
          0.987139980879183
         ],
         "y": [
          -0.1176393063331225
         ]
        },
        {
         "marker": {
          "color": "green",
          "line": {
           "color": "navy",
           "width": 0.5
          },
          "size": 12,
          "symbol": "diamond"
         },
         "mode": "markers",
         "name": "cluster3",
         "type": "scatter",
         "uid": "131b9fdc-4267-4227-a8fc-5b9ba2b79630",
         "x": [
          0.39730728282332745,
          0.3844581461690015,
          -0.49786338779811823,
          0.004968025584319044,
          -0.12469746138037077,
          0.5516339814225081,
          -0.03725838296568836,
          0.1533925445686671,
          1.2153032092161544,
          0.15694117564425075,
          -0.04728151331988012,
          0.12153420888011873,
          0.014118226051387794,
          0.23601083732659697,
          1.0358782103228248,
          0.2754250662518342,
          0.2723350662617719,
          0.3300053638372266,
          -0.3736276226873761,
          0.28294434295510285,
          -0.4570128725046748,
          0.25224447326946925,
          0.3583744748416677,
          1.253086514377592,
          1.2539809866905787
         ],
         "y": [
          -1.7581689474435267,
          -0.5910624686227366,
          -1.8488687712754432,
          -1.0294011124030882,
          -2.658062677961762,
          -1.772581564856256,
          -0.43279509871416905,
          -0.7907254562344859,
          -1.6333556445154838,
          -1.3031032701729117,
          -1.0572124126050206,
          -1.5635923798655786,
          -1.5733923546480604,
          -0.7759237840118168,
          -1.3924664843877812,
          -1.3298159131577025,
          -1.1194415241194042,
          -0.9889007318191554,
          -2.017932265204174,
          -0.8539507169865503,
          -1.5394645102639812,
          -0.5958607459650311,
          -1.5600945839772897,
          -1.1673913352452463,
          -1.7175838442659785
         ]
        },
        {
         "marker": {
          "color": "rgb(200,10,10)",
          "symbol": "diamond"
         },
         "name": "centroid3",
         "type": "scatter",
         "uid": "59037242-6031-420d-8de5-9f85e66a9e3e",
         "x": [
          0.2804880358335317
         ],
         "y": [
          -1.3228459439489055
         ]
        }
       ],
       "layout": {
        "legend": {
         "font": {
          "size": 16
         }
        },
        "title": {
         "font": {
          "size": 24
         },
         "text": "K-Means Clustering (k=5)"
        },
        "xaxis": {
         "showgrid": true,
         "showticklabels": false,
         "zeroline": false
        },
        "yaxis": {
         "showgrid": true,
         "showticklabels": false,
         "zeroline": false
        }
       }
      },
      "text/html": [
       "<div>\n",
       "        \n",
       "        \n",
       "            <div id=\"bcf4d4fb-2326-49a2-88ea-8ad819adf6e4\" class=\"plotly-graph-div\" style=\"height:525px; width:100%;\"></div>\n",
       "            <script type=\"text/javascript\">\n",
       "                require([\"plotly\"], function(Plotly) {\n",
       "                    window.PLOTLYENV=window.PLOTLYENV || {};\n",
       "                    window.PLOTLYENV.BASE_URL='https://plot.ly';\n",
       "                    \n",
       "                if (document.getElementById(\"bcf4d4fb-2326-49a2-88ea-8ad819adf6e4\")) {\n",
       "                    Plotly.newPlot(\n",
       "                        'bcf4d4fb-2326-49a2-88ea-8ad819adf6e4',\n",
       "                        [{\"marker\": {\"color\": \"teal\", \"line\": {\"color\": \"navy\", \"width\": 0.5}, \"size\": 12, \"symbol\": \"cross\"}, \"mode\": \"markers\", \"name\": \"cluster4\", \"type\": \"scatter\", \"uid\": \"95783105-731a-41c5-b4c7-92986d3dbbf9\", \"x\": [-2.264541728394902, -2.3887774935056427, -2.070536807180554, -2.1634865562665233, -2.19229150849843, -2.2514652145840657, -2.2027504800800863, -2.1901791637910524, -1.8940742930236685, -2.3399490704234087, -1.9145563949595175, -2.204645397533814, -2.7741697937051573, -2.052063311276687, -2.1681936533450217, -2.1403059632841583, -1.8319381022015875, -2.6082028676633486, -2.437950859095143, -2.0444165193198005, -2.1705472018842706, -2.2865272388409306, -1.9642792903547375, -2.1333728329200286, -2.3812582168023733, -2.226781213091519], \"y\": [0.5057039027737856, 0.6747673967025161, 1.5185485598885144, 1.0705955760377275, 1.8899785123164672, 2.7223710765744706, 1.5137502825462201, 0.5143043082206935, 1.4311107069412379, 1.158033428985002, 0.4304651632801388, 0.9524573172889991, 0.4895170265034958, 0.2660143119816558, 0.5520164953235407, 0.33664040884505503, 0.4452668355028077, 1.8284751927341027, 2.185391615630894, 0.6849564262949374, 0.29272695496644696, 0.4679917156709386, 0.49739164001838393, 1.171432111774205, 1.1506325928736676, 1.0254825528235456]}, {\"marker\": {\"color\": \"rgb(200,10,10)\", \"symbol\": \"cross\"}, \"name\": \"centroid4\", \"type\": \"scatter\", \"uid\": \"e21d99a0-5e26-4a41-b898-41679a106e56\", \"x\": [-2.203740814308709], \"y\": [0.9913854658653636]}, {\"marker\": {\"color\": \"yellow\", \"line\": {\"color\": \"navy\", \"width\": 0.5}, \"size\": 12, \"symbol\": \"circle\"}, \"mode\": \"markers\", \"name\": \"cluster0\", \"type\": \"scatter\", \"uid\": \"212970b8-88c1-4a86-92f4-28de5597e232\", \"x\": [-2.086425500616159, -2.3679504490625254, -2.30419716115201, -2.4457113396302845, -2.2338418587092663, -2.3419576764553907, -2.1886757552808707, -2.3273777541343748, -2.224082722045003, -2.63971626084463, -1.8204115633372144, -2.228217499459726, -1.9570240073413974, -2.2687901943878774, -2.1445544292771355, -2.1886757552808707, -2.2111198968124226, -2.1886757552808707, -2.4359522029660203, -1.8717072235369512, -2.5578344195375133, -2.075357592837307, -2.3981916876626395, -2.205954168648403], \"y\": [-0.6554047293691372, -0.3184773108472486, -0.575367712533195, 0.0745626750068747, 0.24761393175226584, -1.0951463625829554, -0.4486290483375586, 0.15858745465947663, -0.7091181580302259, -0.9382819821078539, 0.10675079283540656, 0.16218616266619756, -0.6078925674838078, -0.3148786028405278, -0.4839420967692586, -0.4486290483375586, -0.18433781054027834, -0.4486290483375586, -0.8821694147756167, -2.327691606114911, -0.4538163804897928, -0.6919173471364097, -0.36239076472585663, 0.03223784527378008]}, {\"marker\": {\"color\": \"rgb(200,10,10)\", \"symbol\": \"circle\"}, \"name\": \"centroid0\", \"type\": \"scatter\", \"uid\": \"b0628195-0fb0-4545-83df-0b6e81a309e2\", \"x\": [-2.2380167864290357], \"y\": [-0.46519921371523953]}, {\"marker\": {\"color\": \"magenta\", \"line\": {\"color\": \"navy\", \"width\": 0.5}, \"size\": 12, \"symbol\": \"triangle-up\"}, \"mode\": \"markers\", \"name\": \"cluster2\", \"type\": \"scatter\", \"uid\": \"d35a89e4-d8f3-445c-803a-00119178df59\", \"x\": [1.1039936528045726, 1.8476725943096644, 2.206349497126594, 1.8678907025555853, 2.7541967088257535, 2.3030058981503196, 2.2675545991022688, 1.3659094292022147, 1.884251853752075, 1.591809302638529, 2.437378482193509, 3.30914118267608, 2.0404962596630396, 2.8980644358432777, 1.704240708519606, 1.9577276617934363, 1.8647779127074668, 2.435497391415144, 2.3160824119611547, 2.80094940373403, 1.5801552485205375, 1.8535519840664412, 2.0161572006777595, 1.9031168585994875, 2.04330843928781, 2.0016909669349983, 1.8705220714601263, 1.376391190641928], \"y\": [0.8631124458513246, 0.871696661773413, 0.5544701049349227, 0.29119280176116896, 0.7884322063548451, 0.40951669522194345, 1.921442991465355, 0.6939480398041612, 0.41433275795008384, 0.6770353716018517, 2.5567573414948024, -0.0023613201020834837, 0.907398765015053, 0.39779135917186803, 1.0141484248357853, 1.0033345154297775, 0.5553815315789898, 0.24665446806897393, 2.6261838690226282, 0.8447481937849745, 1.0724744961271222, 0.6724227289716038, 0.6103970375551128, 0.686024831858699, 0.864684880472019, 1.0485500466234177, 0.382821837622998, 1.0163619287948857]}, {\"marker\": {\"color\": \"rgb(200,10,10)\", \"symbol\": \"triangle-up\"}, \"name\": \"centroid2\", \"type\": \"scatter\", \"uid\": \"22c9c471-4109-447d-ac38-488922d2bf07\", \"x\": [2.05721014461298], \"y\": [0.8567483933230606]}, {\"marker\": {\"color\": \"blue\", \"line\": {\"color\": \"navy\", \"width\": 0.5}, \"size\": 12, \"symbol\": \"square\"}, \"mode\": \"markers\", \"name\": \"cluster1\", \"type\": \"scatter\", \"uid\": \"dd405aa1-2f71-4264-8e2c-128ea58c9d8f\", \"x\": [0.7324814400086809, 1.242109505318938, 1.0725939482015456, 0.7487150759515532, 0.9262223675330985, 0.43873011778054677, 0.7171650662368515, 0.8758905359406833, 0.3480064019802087, 0.738256104369896, 0.4723696823445687, 1.2279882140834428, 0.629381045314902, 0.7004727992084585, 0.8735369874014338, 1.2542221905224507, 1.3582398473872723, 0.6621261375659379, 1.0566914280905768, 0.2214170883302177, 0.43178316074105344, 1.0494133552191804, 0.06706759987298026, 0.6231705397262217, 0.08905311031901136, 0.224356783208606, 0.573883485558467, 1.1531898082521295, 1.4386854023261826, 2.0017352992189172, 1.5990645856518697, 1.464061522985623, 1.4712801894655443, 0.9739151144704739, 1.329193691323494, 1.171904507987869, 1.0197810528162632, 1.7860088612484688, 1.8603714258523165, 1.1112717256759694, 1.197469155118038, 1.3470444243548023, 0.9234329777663843, 1.1531898082521295, 1.558491890723718, 1.5208450639985909, 0.959298575616038], \"y\": [0.5986355733419975, 0.6148224496122867, -0.2117579026798959, 0.7786986113887825, 0.03033082678338099, -0.05888128502145447, -0.185434314505044, 0.5099981510591476, -0.19062164665727788, 0.4024703816185359, -0.4166082224438798, -0.9409147925302725, -0.4168116425417724, -0.06349392765170236, 0.2507086107020539, -0.08262009981311272, 0.3288202662704019, -0.2243460709434644, -0.6369012837689374, -0.28084769308564034, 0.8551369202180029, 0.5221972645127767, -0.21262073489338879, 0.027542633302294412, -0.1749085477905417, -0.3804846594865457, -0.1537199740800651, -0.7013261138565761, -0.050010522268885686, -0.72386535931266, -0.42824883590033996, -0.4441475694791239, 0.2531924719668155, -0.5711743763662667, -0.4867605419037244, -0.3188966173105681, 0.06554296309664795, -0.19327279985689172, -0.18467239440998356, -0.2959861024303905, -0.817167741913616, 0.4222559658955462, 0.019230370546893055, -0.7013261138565761, -0.9053136014070666, 0.2667945748539107, -0.022283944660567143]}, {\"marker\": {\"color\": \"rgb(200,10,10)\", \"symbol\": \"square\"}, \"name\": \"centroid1\", \"type\": \"scatter\", \"uid\": \"0ec4d8f4-20d9-49d2-b32c-794963fd9ef3\", \"x\": [0.987139980879183], \"y\": [-0.1176393063331225]}, {\"marker\": {\"color\": \"green\", \"line\": {\"color\": \"navy\", \"width\": 0.5}, \"size\": 12, \"symbol\": \"diamond\"}, \"mode\": \"markers\", \"name\": \"cluster3\", \"type\": \"scatter\", \"uid\": \"131b9fdc-4267-4227-a8fc-5b9ba2b79630\", \"x\": [0.39730728282332745, 0.3844581461690015, -0.49786338779811823, 0.004968025584319044, -0.12469746138037077, 0.5516339814225081, -0.03725838296568836, 0.1533925445686671, 1.2153032092161544, 0.15694117564425075, -0.04728151331988012, 0.12153420888011873, 0.014118226051387794, 0.23601083732659697, 1.0358782103228248, 0.2754250662518342, 0.2723350662617719, 0.3300053638372266, -0.3736276226873761, 0.28294434295510285, -0.4570128725046748, 0.25224447326946925, 0.3583744748416677, 1.253086514377592, 1.2539809866905787], \"y\": [-1.7581689474435267, -0.5910624686227366, -1.8488687712754432, -1.0294011124030882, -2.658062677961762, -1.772581564856256, -0.43279509871416905, -0.7907254562344859, -1.6333556445154838, -1.3031032701729117, -1.0572124126050206, -1.5635923798655786, -1.5733923546480604, -0.7759237840118168, -1.3924664843877812, -1.3298159131577025, -1.1194415241194042, -0.9889007318191554, -2.017932265204174, -0.8539507169865503, -1.5394645102639812, -0.5958607459650311, -1.5600945839772897, -1.1673913352452463, -1.7175838442659785]}, {\"marker\": {\"color\": \"rgb(200,10,10)\", \"symbol\": \"diamond\"}, \"name\": \"centroid3\", \"type\": \"scatter\", \"uid\": \"59037242-6031-420d-8de5-9f85e66a9e3e\", \"x\": [0.2804880358335317], \"y\": [-1.3228459439489055]}],\n",
       "                        {\"legend\": {\"font\": {\"size\": 16}}, \"title\": {\"font\": {\"size\": 24}, \"text\": \"K-Means Clustering (k=5)\"}, \"xaxis\": {\"showgrid\": true, \"showticklabels\": false, \"zeroline\": false}, \"yaxis\": {\"showgrid\": true, \"showticklabels\": false, \"zeroline\": false}},\n",
       "                        {\"plotlyServerURL\": \"https://plot.ly\", \"responsive\": true}\n",
       "                    ).then(function(){\n",
       "                            \n",
       "var gd = document.getElementById('bcf4d4fb-2326-49a2-88ea-8ad819adf6e4');\n",
       "var x = new MutationObserver(function (mutations, observer) {{\n",
       "        var display = window.getComputedStyle(gd).display;\n",
       "        if (!display || display === 'none') {{\n",
       "            console.log([gd, 'removed!']);\n",
       "            Plotly.purge(gd);\n",
       "            observer.disconnect();\n",
       "        }}\n",
       "}});\n",
       "\n",
       "// Listen for the removal of the full notebook cells\n",
       "var notebookContainer = gd.closest('#notebook-container');\n",
       "if (notebookContainer) {{\n",
       "    x.observe(notebookContainer, {childList: true});\n",
       "}}\n",
       "\n",
       "// Listen for the clearing of the current output cell\n",
       "var outputEl = gd.closest('.output');\n",
       "if (outputEl) {{\n",
       "    x.observe(outputEl, {childList: true});\n",
       "}}\n",
       "\n",
       "                        })\n",
       "                };\n",
       "                });\n",
       "            </script>\n",
       "        </div>"
      ]
     },
     "metadata": {},
     "output_type": "display_data"
    }
   ],
   "source": [
    "clusters = decomposed_df['clusters'].unique()\n",
    "\n",
    "columns = decomposed_df.columns[1:]\n",
    "\n",
    "symbol = ('circle', 'square', 'triangle-up', 'diamond', 'cross', 'x',\n",
    "                  'triangle-down', 'asterisk', 'octagon', 'diamond-tall-down')\n",
    "color = ('yellow','blue',  'magenta', 'green', 'teal', 'navy','peru',\n",
    "                 'lightslategrey', 'red', 'olive')\n",
    "\n",
    "plot_data = []\n",
    "\n",
    "for c in clusters:\n",
    "    trace1 = {\n",
    "      \"mode\": \"markers\", \n",
    "      \"name\": \"cluster\"+str(c),\n",
    "      \"type\": \"scatter\", \n",
    "      \"x\": decomposed_df.loc[decomposed_df['clusters']==c][columns[0]], \n",
    "      \"y\": decomposed_df.loc[decomposed_df['clusters']==c][columns[1]],\n",
    "      \"marker\": {\n",
    "        \"line\": {\n",
    "          \"color\": \"navy\", \n",
    "          \"width\": 0.5\n",
    "        }, \n",
    "        \"size\": 12, \n",
    "        \"color\": color[c],\n",
    "        \"symbol\": symbol[c]\n",
    "      }\n",
    "    }\n",
    "    trace2 = {\n",
    "      \"name\": \"centroid\"+str(c),\n",
    "      \"type\": \"scatter\", \n",
    "      \"x\": [df[columns[0]][c]], \n",
    "      \"y\": [df[columns[1]][c]],\n",
    "      \"marker\": {\n",
    "        \"color\": \"rgb(200,10,10)\", \n",
    "        \"symbol\": symbol[c]\n",
    "      }\n",
    "    }\n",
    "    plot_data.append(trace1)\n",
    "    plot_data.append(trace2)\n",
    "    \n",
    "data = Data(plot_data)\n",
    "layout = {\n",
    "    \"title\": \"K-Means Clustering (k=%s)\" % len(clusters),\n",
    "    \"xaxis\": {\n",
    "        \"showgrid\": True,\n",
    "        \"zeroline\": False,\n",
    "        \"showticklabels\": False\n",
    "    },\n",
    "    \"yaxis\": {\n",
    "        \"showgrid\": True,\n",
    "        \"zeroline\": False,\n",
    "        \"showticklabels\": False\n",
    "    },\n",
    "    \"legend\": {\"font\": {\"size\": 16}},\n",
    "    \"titlefont\": {\"size\": 24}\n",
    "}\n",
    "fig = Figure(data=data, layout=layout)\n",
    "fig.show()"
   ]
  }
 ],
 "metadata": {
  "kernelspec": {
   "display_name": "Python 3",
   "language": "python",
   "name": "python3"
  },
  "language_info": {
   "codemirror_mode": {
    "name": "ipython",
    "version": 3
   },
   "file_extension": ".py",
   "mimetype": "text/x-python",
   "name": "python",
   "nbconvert_exporter": "python",
   "pygments_lexer": "ipython3",
   "version": "3.7.1"
  }
 },
 "nbformat": 4,
 "nbformat_minor": 2
}
